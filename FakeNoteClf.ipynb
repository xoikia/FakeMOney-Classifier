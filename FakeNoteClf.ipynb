{
 "cells": [
  {
   "cell_type": "markdown",
   "id": "b2bc4da1",
   "metadata": {},
   "source": [
    "#### <font color='darkblue'>1 Importing the necessary  Libraries</font>"
   ]
  },
  {
   "cell_type": "code",
   "execution_count": 1,
   "id": "e402040b",
   "metadata": {},
   "outputs": [],
   "source": [
    "import time\n",
    "import numpy as np\n",
    "import tensorflow as tf\n",
    "import matplotlib.pyplot as plt\n",
    "\n",
    "\n",
    "#Importing necessary functions from Tensorflow\n",
    "#This functions will be used for building the model\n",
    "\n",
    "from tensorflow.keras.preprocessing import image\n",
    "from tensorflow.keras.models import Model,Sequential,load_model\n",
    "from tensorflow.keras.preprocessing.image import ImageDataGenerator\n",
    "from tensorflow.keras.callbacks import ModelCheckpoint,ReduceLROnPlateau\n",
    "from tensorflow.keras.layers import Activation,BatchNormalization,Conv2D,Dense,Flatten,MaxPooling2D\n",
    "\n",
    "%matplotlib inline"
   ]
  },
  {
   "cell_type": "markdown",
   "id": "356a6790",
   "metadata": {},
   "source": [
    "    Time is used to calculate the time required\n",
    "\n",
    "    NumPy is a general-purpose array-processing package. It provides a high-performance multidimensional array object, and tools for working with these arrays. It is the fundamental package for scientific computing with Python.\n",
    "\n",
    "    Tensorflow is the main library used to build the model\n",
    "\n",
    "    Matplotlib is used for plotting the graphs"
   ]
  },
  {
   "cell_type": "code",
   "execution_count": 2,
   "id": "e71dfb17",
   "metadata": {},
   "outputs": [],
   "source": [
    "#folder path where the trainig images are located\n",
    "path=r'C:\\Users\\saiki\\Desktop\\ShaibaNew\\Notes'"
   ]
  },
  {
   "cell_type": "markdown",
   "id": "0116826e",
   "metadata": {},
   "source": [
    "####  <font color='darkblue'>2 Image Preprocessing and Data Augmentation</font>"
   ]
  },
  {
   "cell_type": "code",
   "execution_count": 3,
   "id": "96bf7fa9",
   "metadata": {},
   "outputs": [],
   "source": [
    "train_datagen=ImageDataGenerator(rescale=1./255,\n",
    "                                shear_range=0.2,zoom_range=0.2,\n",
    "                                 horizontal_flip=True,validation_split=0.25)"
   ]
  },
  {
   "cell_type": "markdown",
   "id": "0fd416de",
   "metadata": {},
   "source": [
    "<font color='darkblue'><u>**Explanations of the parameters**</u></font>\n",
    "\n",
    "    rescale: rescaling factor. Defaults to None.If None or 0, no rescaling is applied,otherwise we multiply the data by the value provided,Here we are multiplying with1./255 (after applying all other transformations).\n",
    "\n",
    "    shear_range: 'Shear' means that the image will be distorted along an axis, mostly to create or rectify the perception angles. It's usually used to augment images so that model can see how humans see things from different angles.Shear Intensity (Shear angle in counter-clockwise direction in degrees)\n",
    "\n",
    "    zoom_range: Range for random zoom.\n",
    "\n",
    "    horizontal_flip: Boolean value . Randomly flip inputs horizontally.\n",
    "\n",
    "    validation_split: Float. Fraction of images reserved for validation,Here 25% of the data will be stored for validation and remaining 75% for training"
   ]
  },
  {
   "cell_type": "markdown",
   "id": "e79fea8f",
   "metadata": {},
   "source": [
    "####  <font color='darkblue'>3 Reading Images from directory</font>\n",
    "\n",
    " Takes the path to a directory & generates batches of augmented data."
   ]
  },
  {
   "cell_type": "code",
   "execution_count": 4,
   "id": "2017bc3b",
   "metadata": {},
   "outputs": [
    {
     "name": "stdout",
     "output_type": "stream",
     "text": [
      "Found 1740 images belonging to 4 classes.\n",
      "Found 579 images belonging to 4 classes.\n"
     ]
    }
   ],
   "source": [
    "#training set use for training of the model\n",
    "train_set=train_datagen.flow_from_directory(path,target_size=(224,224),batch_size=32,\n",
    "                                            class_mode='categorical',subset='training')\n",
    "\n",
    "#validation set use for validation of the model\n",
    "val_set=train_datagen.flow_from_directory(path,target_size=(224,224),batch_size=32,\n",
    "                                         class_mode='categorical',subset='validation')"
   ]
  },
  {
   "cell_type": "markdown",
   "id": "1a2ac48b",
   "metadata": {},
   "source": [
    "    Total number of images used for training is : 1740\n",
    "    Total numnber of images used for validation is : 579\n",
    "    \n",
    "<font color='darkblue'><u>**Explanations of the parameters**</u></font>\n",
    "\n",
    "    path: , It is the path metioned above whichs stores the location where our datasets are stored.\n",
    "\n",
    "    target_size: Tuple of integers `(height, width).\n",
    "    \n",
    "    batch_size: Size of the batches of data,The batch size is a number of samples processed before the model is    updated.\n",
    "    \n",
    "    class_mode: Determines the type of label arrays that are returned, here\"categorical\" will be 2D one-hot encoded labels.\n",
    "    \n",
    "    color_mode: One of \"grayscale\", \"rgb\", \"rgba\". Default: \"rgb\".Whether the images will be converted to have 1, 3, or 4 channels."
   ]
  },
  {
   "cell_type": "markdown",
   "id": "5b38ed7d",
   "metadata": {},
   "source": [
    "####  <font color='darkblue'>4 Defining the input shape and num of classes parameter</font>"
   ]
  },
  {
   "cell_type": "code",
   "execution_count": 5,
   "id": "c0a9cf49",
   "metadata": {},
   "outputs": [],
   "source": [
    "input_shape=(224,224,3)\n",
    "num_classes=4"
   ]
  },
  {
   "cell_type": "markdown",
   "id": "9590be3f",
   "metadata": {},
   "source": [
    "    input_shape: The input shape for the model\n",
    "    \n",
    "    num_classes:  4 ,Since we have four classes to indentify fake 500, real 500, fake 200, real 200"
   ]
  },
  {
   "cell_type": "markdown",
   "id": "4749eb0d",
   "metadata": {},
   "source": [
    "#### <font color='darkblue'> 5 Building the Model</font>"
   ]
  },
  {
   "cell_type": "code",
   "execution_count": 6,
   "id": "1484a32e",
   "metadata": {},
   "outputs": [],
   "source": [
    "#Creates a `Sequential` model instance.\n",
    "classifier=Sequential()\n",
    "\n",
    "#Convoulutional Layers\n",
    "\n",
    "#Convolutional Layer1\n",
    "classifier.add(Conv2D(30, (3, 3), input_shape = input_shape, activation = 'relu',padding='same'))\n",
    "\n",
    "#Maxpooling Layer1\n",
    "classifier.add(MaxPooling2D(pool_size=(2,2)))\n",
    "\n",
    "#Convolutional Layer2\n",
    "classifier.add(Conv2D(30,(3,3),activation='relu',padding='same'))\n",
    "\n",
    "#Maxpooling Layer2\n",
    "classifier.add(MaxPooling2D(pool_size=(2,2)))\n",
    "\n",
    "#Convolutional Layer3\n",
    "classifier.add(Conv2D(30,(3,3),activation='relu'))\n",
    "\n",
    "#Maxpooling Layer 3\n",
    "classifier.add(MaxPooling2D(pool_size=(2,2)))\n",
    "\n",
    "#Flatten Layer\n",
    "classifier.add(Flatten())\n",
    "\n",
    "#forward connection layers(FC Layers)\n",
    "\n",
    "#FC Layer 1\n",
    "classifier.add(Dense(units=100 ,activation='relu'))\n",
    "\n",
    "#FC Layer 2\n",
    "classifier.add(Dense(units=80,activation='relu'))\n",
    "\n",
    "#FC Layer3(output layer with neurons equal to the number of classes)\n",
    "classifier.add(Dense(units=num_classes,activation='softmax'))\n",
    "\n",
    "\n",
    "#Compiling  the model\n",
    "classifier.compile(optimizer='adam',loss='categorical_crossentropy',metrics=['accuracy'])"
   ]
  },
  {
   "cell_type": "markdown",
   "id": "6b4ac2d9",
   "metadata": {},
   "source": [
    " <font color='darkblue'><u>Explanations of the parameters used in every layers of the model</u></font>\n",
    "    \n",
    "    Layer1:First Layer is the 2d Convolutional Layer.The Convolutional Layers are responsible for feature extractions. The first paramter we passed is 30 ,denotes the number of kernels(filters) used to extract the features from the image. The second parameter is (3,3) which is the size of the filter ,The input_shape is the shape of the input,Activation='relu' Rectified Linear Unit(relu) is used to increase the non-linearity in the output. Padding=same ,produces output  shape same as the input shape\n",
    "\n",
    "    Layer2: Max Pool Layeris a pooling operation that calculates the maximum, or largest, value in each patch of each feature map. The window size is (2,2),helps to solves the  over-fitting by providing an abstracted form of the representation\n",
    "    \n",
    "    Layer3: It is also a convolutional layer which extracts features from the output of Layer2.\n",
    "\n",
    "    Layer4: Max Pool Layer which furthers  down sample the input from a window shape of (2,2).\n",
    "    \n",
    "    Layer5: This Layer further extracts  the features from the output of Layer 4\n",
    "    \n",
    "    Layer6: This is the pooling layer which further downsamples so that it reduces the parameter ,thus preventing over fitting\n",
    "    \n",
    "    Layer7: Flatten ,Flattens the input. Does not affect the batch size.The input shape is None, 31, 31, 30 and the out put is None, 21870(just multiply)\n",
    "\n",
    "    Layer8: Dense Layer .100 neurons is used. Dense layer is the regular deeply connected neural network layer. It is most common and frequently used layer. Dense layer does the below operation on the input and return the output.\n",
    "    output = activation(dot(input, kernel) + bias)\n",
    "    \n",
    "    input represent the input data, kernel represent the weight data, dot represent numpy dot product of all input and its corresponding weights, bias represent a biased value used in machine learning to optimize the model, activation represent the activation function. Here the activation is RectifiedLinearUnit\n",
    "\n",
    "\n",
    "    Layer9: It uses 80 neurons and activationfunction same as the above Dense layer\n",
    "    \n",
    "    Layer10: It is the final Dense Layer with the number of neuron equals to the number of classes 4 ,Here activation function is used as softmax.Softmax represent the certainty “probability” in the network output.\n",
    "    \n",
    "    \n",
    "    \n",
    "    \n",
    " <font color='darkblue'><u>Explanations of the parameters used in compiling of the model</u></font>\n",
    "\n",
    "    Compile defines the loss function, the optimizer and the metrics\n",
    "    optimizers=Optimizers are algorithms or methods used to change the attributes of the neural network such as weights and learning rate to reduce the losses. Optimizers are used to solve optimization problems by minimizing the function.\n",
    "    \n",
    "    loss=objective function to reduce ,Here we have used categorical cross entropy\n",
    "    \n",
    "    metrics=accuracy to be evaluated by the model during training and testing."
   ]
  },
  {
   "cell_type": "markdown",
   "id": "74aba7e0",
   "metadata": {},
   "source": [
    "#### <font color='darkblue'> 6 Summary </font>\n",
    "\n",
    "    Prints a string summary of the network."
   ]
  },
  {
   "cell_type": "code",
   "execution_count": 7,
   "id": "1fbf60a9",
   "metadata": {},
   "outputs": [
    {
     "name": "stdout",
     "output_type": "stream",
     "text": [
      "Model: \"sequential\"\n",
      "_________________________________________________________________\n",
      "Layer (type)                 Output Shape              Param #   \n",
      "=================================================================\n",
      "conv2d (Conv2D)              (None, 224, 224, 30)      840       \n",
      "_________________________________________________________________\n",
      "max_pooling2d (MaxPooling2D) (None, 112, 112, 30)      0         \n",
      "_________________________________________________________________\n",
      "conv2d_1 (Conv2D)            (None, 112, 112, 30)      8130      \n",
      "_________________________________________________________________\n",
      "max_pooling2d_1 (MaxPooling2 (None, 56, 56, 30)        0         \n",
      "_________________________________________________________________\n",
      "conv2d_2 (Conv2D)            (None, 54, 54, 30)        8130      \n",
      "_________________________________________________________________\n",
      "max_pooling2d_2 (MaxPooling2 (None, 27, 27, 30)        0         \n",
      "_________________________________________________________________\n",
      "flatten (Flatten)            (None, 21870)             0         \n",
      "_________________________________________________________________\n",
      "dense (Dense)                (None, 100)               2187100   \n",
      "_________________________________________________________________\n",
      "dense_1 (Dense)              (None, 80)                8080      \n",
      "_________________________________________________________________\n",
      "dense_2 (Dense)              (None, 4)                 324       \n",
      "=================================================================\n",
      "Total params: 2,212,604\n",
      "Trainable params: 2,212,604\n",
      "Non-trainable params: 0\n",
      "_________________________________________________________________\n"
     ]
    }
   ],
   "source": [
    "classifier.summary()"
   ]
  },
  {
   "cell_type": "markdown",
   "id": "c4022e00",
   "metadata": {},
   "source": [
    "#### <font color='darkblue'> 7 Callbacks </font>\n",
    "\n",
    "    A callback is a set of functions to be applied at given stages of the training procedure. You can use callbacks to get a view on internal states and statistics of the model during training"
   ]
  },
  {
   "cell_type": "code",
   "execution_count": 8,
   "id": "5c5e6766",
   "metadata": {},
   "outputs": [],
   "source": [
    "#creating a ReduceLROnPlateau object \n",
    "lr_reducer=ReduceLROnPlateau(monitor='val_accuracy',factor=np.sqrt(0.1),patience=5,mode='auto',min_lr=0.5e-6,verbose=1)\n",
    "\n",
    "#creating a ModelCheckpoint object \n",
    "checkpoint=ModelCheckpoint(monitor='val_accuracy',filepath='FakeNoteClf.h5',mode='auto' ,verbose=1, \n",
    "                           save_best_only=True)\n",
    "\n",
    "#creating a callbacks variable list of all the callbacks funstions to be used\n",
    "callbacks=[lr_reducer,checkpoint]"
   ]
  },
  {
   "cell_type": "markdown",
   "id": "60fcb101",
   "metadata": {},
   "source": [
    "<font color='darkblue'><u>Explanations of the various function and parameters</u></font>\n",
    "     \n",
    "    ReduceLROnPlateau ,Reduce learning rate when a metric has stopped improving.The metric we define is the validation acc ,reduces lr by the given factor value ,It waits for 5 epochs if its not improving it reduces ,\n",
    "    \n",
    "    ModelCheckpoint ,Callback to save the Keras model or model weights at some frequency.used in conjunction with training using model.fit()` to save a model or weights (in a checkpoint file) at some interval, so the model or weights can be loaded later to continue the training from the state saved.monitor: quantity to monitor.Here we use validation_accuracy,filepath is the path along witht the name where it will be stored,save_best_only: if`save_best_only=True`, the latest best model accordingto the quantity monitored will not be overwritten."
   ]
  },
  {
   "cell_type": "markdown",
   "id": "16dbaa36",
   "metadata": {},
   "source": [
    "#### <font color='darkblue'>8 Assigning Parameters</font>"
   ]
  },
  {
   "cell_type": "code",
   "execution_count": 9,
   "id": "72573515",
   "metadata": {},
   "outputs": [],
   "source": [
    "epochs=40\n",
    "steps_per_epochs=train_set.samples//40"
   ]
  },
  {
   "cell_type": "markdown",
   "id": "8d3a3e3a",
   "metadata": {},
   "source": [
    "    epochs :The number of epochs is the number of complete passes through the training dataset.The number of epochs can be set to an integer value between one and infinity. You can run the algorithm for as long as you like and even stop it using other criteria besides a fixed number of epochs, such as a change (or lack of change) in model error over time.\n",
    "    \n",
    "    steps_per_epochs : the number of batch iterations before a training epoch is considered finished.\n",
    "    "
   ]
  },
  {
   "cell_type": "markdown",
   "id": "cef3be34",
   "metadata": {},
   "source": [
    "#### <font color='darkblue'>9 Training of the Model </font>\n",
    "\n",
    "    Trains the model for a fixed number of epochs (iterations on train data)."
   ]
  },
  {
   "cell_type": "markdown",
   "id": "8f6f7ba8",
   "metadata": {},
   "source": [
    "<font color='darkblue'><u>Explanations of the parameters</u></font>\n",
    " \n",
    "     train_set is the data on which training will be done\n",
    "     \n",
    "     epochs=Integer. Number of epochs to train the model.\n",
    "     \n",
    "     steps_per_epochs=Integer or `None`.Total number of steps (batches of samples) before declaring one epoch \n",
    "     finished and starting the next epoch.\n",
    "     \n",
    "     callbacks=callbacks: List of callback defined above\n",
    "     \n",
    "     validation_data: Data on which to evaluate the loss and any model metrics at the end of each epoch.The model will \n",
    "     not be trained on this data.\n",
    "     \n",
    "      verbose: 0, 1, or 2. Verbosity mode.0 = silent, 1 = progress bar, 2 = one line per epoch."
   ]
  },
  {
   "cell_type": "code",
   "execution_count": 10,
   "id": "1982e53d",
   "metadata": {
    "scrolled": false
   },
   "outputs": [
    {
     "name": "stdout",
     "output_type": "stream",
     "text": [
      "Epoch 1/40\n",
      "43/43 [==============================] - ETA: 0s - loss: 1.1378 - accuracy: 0.4860\n",
      "Epoch 00001: val_accuracy improved from -inf to 0.71330, saving model to FakeNoteClf.h5\n",
      "43/43 [==============================] - 167s 4s/step - loss: 1.1378 - accuracy: 0.4860 - val_loss: 0.6679 - val_accuracy: 0.7133 - lr: 0.0010\n",
      "Epoch 2/40\n",
      "43/43 [==============================] - ETA: 0s - loss: 0.5262 - accuracy: 0.8053\n",
      "Epoch 00002: val_accuracy improved from 0.71330 to 0.80484, saving model to FakeNoteClf.h5\n",
      "43/43 [==============================] - 158s 4s/step - loss: 0.5262 - accuracy: 0.8053 - val_loss: 0.4542 - val_accuracy: 0.8048 - lr: 0.0010\n",
      "Epoch 3/40\n",
      "43/43 [==============================] - ETA: 0s - loss: 0.3083 - accuracy: 0.8960\n",
      "Epoch 00003: val_accuracy improved from 0.80484 to 0.86701, saving model to FakeNoteClf.h5\n",
      "43/43 [==============================] - 160s 4s/step - loss: 0.3083 - accuracy: 0.8960 - val_loss: 0.3965 - val_accuracy: 0.8670 - lr: 0.0010\n",
      "Epoch 4/40\n",
      "43/43 [==============================] - ETA: 0s - loss: 0.2607 - accuracy: 0.9019\n",
      "Epoch 00004: val_accuracy improved from 0.86701 to 0.87910, saving model to FakeNoteClf.h5\n",
      "43/43 [==============================] - 162s 4s/step - loss: 0.2607 - accuracy: 0.9019 - val_loss: 0.3715 - val_accuracy: 0.8791 - lr: 0.0010\n",
      "Epoch 5/40\n",
      "43/43 [==============================] - ETA: 0s - loss: 0.2061 - accuracy: 0.9263\n",
      "Epoch 00005: val_accuracy did not improve from 0.87910\n",
      "43/43 [==============================] - 182s 4s/step - loss: 0.2061 - accuracy: 0.9263 - val_loss: 0.4622 - val_accuracy: 0.8480 - lr: 0.0010\n",
      "Epoch 6/40\n",
      "43/43 [==============================] - ETA: 0s - loss: 0.1962 - accuracy: 0.9336\n",
      "Epoch 00006: val_accuracy did not improve from 0.87910\n",
      "43/43 [==============================] - 166s 4s/step - loss: 0.1962 - accuracy: 0.9336 - val_loss: 0.5669 - val_accuracy: 0.8549 - lr: 0.0010\n",
      "Epoch 7/40\n",
      "43/43 [==============================] - ETA: 0s - loss: 0.1703 - accuracy: 0.9425\n",
      "Epoch 00007: val_accuracy did not improve from 0.87910\n",
      "43/43 [==============================] - 168s 4s/step - loss: 0.1703 - accuracy: 0.9425 - val_loss: 0.4723 - val_accuracy: 0.8670 - lr: 0.0010\n",
      "Epoch 8/40\n",
      "43/43 [==============================] - ETA: 0s - loss: 0.1373 - accuracy: 0.9535\n",
      "Epoch 00008: val_accuracy improved from 0.87910 to 0.88946, saving model to FakeNoteClf.h5\n",
      "43/43 [==============================] - 161s 4s/step - loss: 0.1373 - accuracy: 0.9535 - val_loss: 0.3863 - val_accuracy: 0.8895 - lr: 0.0010\n",
      "Epoch 9/40\n",
      "43/43 [==============================] - ETA: 0s - loss: 0.1501 - accuracy: 0.9484\n",
      "Epoch 00009: val_accuracy did not improve from 0.88946\n",
      "43/43 [==============================] - 161s 4s/step - loss: 0.1501 - accuracy: 0.9484 - val_loss: 0.5796 - val_accuracy: 0.8446 - lr: 0.0010\n",
      "Epoch 10/40\n",
      "43/43 [==============================] - ETA: 0s - loss: 0.1133 - accuracy: 0.9646\n",
      "Epoch 00010: val_accuracy did not improve from 0.88946\n",
      "43/43 [==============================] - 160s 4s/step - loss: 0.1133 - accuracy: 0.9646 - val_loss: 0.5501 - val_accuracy: 0.8826 - lr: 0.0010\n",
      "Epoch 11/40\n",
      "43/43 [==============================] - ETA: 0s - loss: 0.0676 - accuracy: 0.9818\n",
      "Epoch 00011: val_accuracy did not improve from 0.88946\n",
      "43/43 [==============================] - 163s 4s/step - loss: 0.0676 - accuracy: 0.9818 - val_loss: 0.4996 - val_accuracy: 0.8895 - lr: 0.0010\n",
      "Epoch 12/40\n",
      "43/43 [==============================] - ETA: 0s - loss: 0.0943 - accuracy: 0.9757\n",
      "Epoch 00012: val_accuracy did not improve from 0.88946\n",
      "43/43 [==============================] - 161s 4s/step - loss: 0.0943 - accuracy: 0.9757 - val_loss: 0.5207 - val_accuracy: 0.8843 - lr: 0.0010\n",
      "Epoch 13/40\n",
      "43/43 [==============================] - ETA: 0s - loss: 0.0868 - accuracy: 0.9742\n",
      "Epoch 00013: val_accuracy improved from 0.88946 to 0.90846, saving model to FakeNoteClf.h5\n",
      "43/43 [==============================] - 161s 4s/step - loss: 0.0868 - accuracy: 0.9742 - val_loss: 0.3959 - val_accuracy: 0.9085 - lr: 0.0010\n",
      "Epoch 14/40\n",
      "43/43 [==============================] - ETA: 0s - loss: 0.1105 - accuracy: 0.9680\n",
      "Epoch 00014: val_accuracy did not improve from 0.90846\n",
      "43/43 [==============================] - 162s 4s/step - loss: 0.1105 - accuracy: 0.9680 - val_loss: 0.6286 - val_accuracy: 0.8618 - lr: 0.0010\n",
      "Epoch 15/40\n",
      "43/43 [==============================] - ETA: 0s - loss: 0.0710 - accuracy: 0.9757\n",
      "Epoch 00015: val_accuracy did not improve from 0.90846\n",
      "43/43 [==============================] - 162s 4s/step - loss: 0.0710 - accuracy: 0.9757 - val_loss: 0.4534 - val_accuracy: 0.8895 - lr: 0.0010\n",
      "Epoch 16/40\n",
      "43/43 [==============================] - ETA: 0s - loss: 0.1099 - accuracy: 0.9609\n",
      "Epoch 00016: val_accuracy improved from 0.90846 to 0.91364, saving model to FakeNoteClf.h5\n",
      "43/43 [==============================] - 160s 4s/step - loss: 0.1099 - accuracy: 0.9609 - val_loss: 0.5062 - val_accuracy: 0.9136 - lr: 0.0010\n",
      "Epoch 17/40\n",
      "43/43 [==============================] - ETA: 0s - loss: 0.1037 - accuracy: 0.9624\n",
      "Epoch 00017: val_accuracy did not improve from 0.91364\n",
      "43/43 [==============================] - 158s 4s/step - loss: 0.1037 - accuracy: 0.9624 - val_loss: 0.4723 - val_accuracy: 0.8998 - lr: 0.0010\n",
      "Epoch 18/40\n",
      "43/43 [==============================] - ETA: 0s - loss: 0.1111 - accuracy: 0.9617\n",
      "Epoch 00018: val_accuracy did not improve from 0.91364\n",
      "43/43 [==============================] - 174s 4s/step - loss: 0.1111 - accuracy: 0.9617 - val_loss: 0.2565 - val_accuracy: 0.9102 - lr: 0.0010\n",
      "Epoch 19/40\n",
      "43/43 [==============================] - ETA: 0s - loss: 0.0540 - accuracy: 0.9830\n",
      "Epoch 00019: val_accuracy did not improve from 0.91364\n",
      "43/43 [==============================] - 159s 4s/step - loss: 0.0540 - accuracy: 0.9830 - val_loss: 0.5502 - val_accuracy: 0.8998 - lr: 0.0010\n",
      "Epoch 20/40\n",
      "43/43 [==============================] - ETA: 0s - loss: 0.0659 - accuracy: 0.9823\n",
      "Epoch 00020: val_accuracy did not improve from 0.91364\n",
      "43/43 [==============================] - 160s 4s/step - loss: 0.0659 - accuracy: 0.9823 - val_loss: 0.4248 - val_accuracy: 0.9067 - lr: 0.0010\n",
      "Epoch 21/40\n",
      "43/43 [==============================] - ETA: 0s - loss: 0.0517 - accuracy: 0.9823\n",
      "Epoch 00021: ReduceLROnPlateau reducing learning rate to 0.00031622778103685084.\n",
      "\n",
      "Epoch 00021: val_accuracy did not improve from 0.91364\n",
      "43/43 [==============================] - 169s 4s/step - loss: 0.0517 - accuracy: 0.9823 - val_loss: 0.4440 - val_accuracy: 0.9033 - lr: 0.0010\n",
      "Epoch 22/40\n",
      "43/43 [==============================] - ETA: 0s - loss: 0.0432 - accuracy: 0.9875\n",
      "Epoch 00022: val_accuracy did not improve from 0.91364\n",
      "43/43 [==============================] - 168s 4s/step - loss: 0.0432 - accuracy: 0.9875 - val_loss: 0.5191 - val_accuracy: 0.8981 - lr: 3.1623e-04\n",
      "Epoch 23/40\n",
      "43/43 [==============================] - ETA: 0s - loss: 0.0489 - accuracy: 0.9913\n",
      "Epoch 00023: val_accuracy did not improve from 0.91364\n",
      "43/43 [==============================] - 162s 4s/step - loss: 0.0489 - accuracy: 0.9913 - val_loss: 0.5325 - val_accuracy: 0.9033 - lr: 3.1623e-04\n",
      "Epoch 24/40\n",
      "43/43 [==============================] - ETA: 0s - loss: 0.0238 - accuracy: 0.9948\n",
      "Epoch 00024: val_accuracy did not improve from 0.91364\n",
      "43/43 [==============================] - 162s 4s/step - loss: 0.0238 - accuracy: 0.9948 - val_loss: 0.4886 - val_accuracy: 0.9119 - lr: 3.1623e-04\n",
      "Epoch 25/40\n",
      "43/43 [==============================] - ETA: 0s - loss: 0.0284 - accuracy: 0.9941\n",
      "Epoch 00025: val_accuracy improved from 0.91364 to 0.93610, saving model to FakeNoteClf.h5\n",
      "43/43 [==============================] - 161s 4s/step - loss: 0.0284 - accuracy: 0.9941 - val_loss: 0.2913 - val_accuracy: 0.9361 - lr: 3.1623e-04\n",
      "Epoch 26/40\n",
      "43/43 [==============================] - ETA: 0s - loss: 0.0402 - accuracy: 0.9891\n",
      "Epoch 00026: val_accuracy did not improve from 0.93610\n",
      "43/43 [==============================] - 163s 4s/step - loss: 0.0402 - accuracy: 0.9891 - val_loss: 0.3862 - val_accuracy: 0.9292 - lr: 3.1623e-04\n",
      "Epoch 27/40\n",
      "43/43 [==============================] - ETA: 0s - loss: 0.0286 - accuracy: 0.9934\n",
      "Epoch 00027: val_accuracy did not improve from 0.93610\n",
      "43/43 [==============================] - 168s 4s/step - loss: 0.0286 - accuracy: 0.9934 - val_loss: 0.6010 - val_accuracy: 0.9171 - lr: 3.1623e-04\n"
     ]
    },
    {
     "name": "stdout",
     "output_type": "stream",
     "text": [
      "Epoch 28/40\n",
      "43/43 [==============================] - ETA: 0s - loss: 0.0236 - accuracy: 0.9926\n",
      "Epoch 00028: val_accuracy did not improve from 0.93610\n",
      "43/43 [==============================] - 163s 4s/step - loss: 0.0236 - accuracy: 0.9926 - val_loss: 0.3584 - val_accuracy: 0.9223 - lr: 3.1623e-04\n",
      "Epoch 29/40\n",
      "43/43 [==============================] - ETA: 0s - loss: 0.0235 - accuracy: 0.9926\n",
      "Epoch 00029: val_accuracy did not improve from 0.93610\n",
      "43/43 [==============================] - 165s 4s/step - loss: 0.0235 - accuracy: 0.9926 - val_loss: 0.4396 - val_accuracy: 0.9344 - lr: 3.1623e-04\n",
      "Epoch 30/40\n",
      "43/43 [==============================] - ETA: 0s - loss: 0.0220 - accuracy: 0.9964\n",
      "Epoch 00030: ReduceLROnPlateau reducing learning rate to 0.00010000000639606199.\n",
      "\n",
      "Epoch 00030: val_accuracy did not improve from 0.93610\n",
      "43/43 [==============================] - 163s 4s/step - loss: 0.0220 - accuracy: 0.9964 - val_loss: 0.5854 - val_accuracy: 0.8981 - lr: 3.1623e-04\n",
      "Epoch 31/40\n",
      "43/43 [==============================] - ETA: 0s - loss: 0.0151 - accuracy: 0.9963\n",
      "Epoch 00031: val_accuracy did not improve from 0.93610\n",
      "43/43 [==============================] - 162s 4s/step - loss: 0.0151 - accuracy: 0.9963 - val_loss: 0.5680 - val_accuracy: 0.9085 - lr: 1.0000e-04\n",
      "Epoch 32/40\n",
      "43/43 [==============================] - ETA: 0s - loss: 0.0282 - accuracy: 0.9926\n",
      "Epoch 00032: val_accuracy did not improve from 0.93610\n",
      "43/43 [==============================] - 163s 4s/step - loss: 0.0282 - accuracy: 0.9926 - val_loss: 0.5056 - val_accuracy: 0.9223 - lr: 1.0000e-04\n",
      "Epoch 33/40\n",
      "43/43 [==============================] - ETA: 0s - loss: 0.0208 - accuracy: 0.9964\n",
      "Epoch 00033: val_accuracy did not improve from 0.93610\n",
      "43/43 [==============================] - 163s 4s/step - loss: 0.0208 - accuracy: 0.9964 - val_loss: 0.4738 - val_accuracy: 0.9292 - lr: 1.0000e-04\n",
      "Epoch 34/40\n",
      "43/43 [==============================] - ETA: 0s - loss: 0.0198 - accuracy: 0.9948\n",
      "Epoch 00034: val_accuracy did not improve from 0.93610\n",
      "43/43 [==============================] - 159s 4s/step - loss: 0.0198 - accuracy: 0.9948 - val_loss: 0.5438 - val_accuracy: 0.9275 - lr: 1.0000e-04\n",
      "Epoch 35/40\n",
      "43/43 [==============================] - ETA: 0s - loss: 0.0154 - accuracy: 0.9971\n",
      "Epoch 00035: ReduceLROnPlateau reducing learning rate to 3.1622778103685084e-05.\n",
      "\n",
      "Epoch 00035: val_accuracy did not improve from 0.93610\n",
      "43/43 [==============================] - 161s 4s/step - loss: 0.0154 - accuracy: 0.9971 - val_loss: 0.5081 - val_accuracy: 0.9292 - lr: 1.0000e-04\n",
      "Epoch 36/40\n",
      "43/43 [==============================] - ETA: 0s - loss: 0.0176 - accuracy: 0.9949\n",
      "Epoch 00036: val_accuracy did not improve from 0.93610\n",
      "43/43 [==============================] - 165s 4s/step - loss: 0.0176 - accuracy: 0.9949 - val_loss: 0.4903 - val_accuracy: 0.9292 - lr: 3.1623e-05\n",
      "Epoch 37/40\n",
      "43/43 [==============================] - ETA: 0s - loss: 0.0159 - accuracy: 0.9978\n",
      "Epoch 00037: val_accuracy did not improve from 0.93610\n",
      "43/43 [==============================] - 163s 4s/step - loss: 0.0159 - accuracy: 0.9978 - val_loss: 0.4668 - val_accuracy: 0.9257 - lr: 3.1623e-05\n",
      "Epoch 38/40\n",
      "43/43 [==============================] - ETA: 0s - loss: 0.0133 - accuracy: 0.9978\n",
      "Epoch 00038: val_accuracy did not improve from 0.93610\n",
      "43/43 [==============================] - 165s 4s/step - loss: 0.0133 - accuracy: 0.9978 - val_loss: 0.5159 - val_accuracy: 0.9223 - lr: 3.1623e-05\n",
      "Epoch 39/40\n",
      "43/43 [==============================] - ETA: 0s - loss: 0.0156 - accuracy: 0.9971\n",
      "Epoch 00039: val_accuracy did not improve from 0.93610\n",
      "43/43 [==============================] - 164s 4s/step - loss: 0.0156 - accuracy: 0.9971 - val_loss: 0.4199 - val_accuracy: 0.9326 - lr: 3.1623e-05\n",
      "Epoch 40/40\n",
      "43/43 [==============================] - ETA: 0s - loss: 0.0184 - accuracy: 0.9971\n",
      "Epoch 00040: ReduceLROnPlateau reducing learning rate to 1.0000000409520217e-05.\n",
      "\n",
      "Epoch 00040: val_accuracy did not improve from 0.93610\n",
      "43/43 [==============================] - 165s 4s/step - loss: 0.0184 - accuracy: 0.9971 - val_loss: 0.4811 - val_accuracy: 0.9154 - lr: 3.1623e-05\n",
      "Time required to print FakeNoteClf model is: 6684.5837342739105\n"
     ]
    }
   ],
   "source": [
    "#used to store the start time\n",
    "start_time=time.time()\n",
    "\n",
    "#training the model \n",
    "#calling the .fit and creating a object called model_history\n",
    "model_history=classifier.fit(train_set,steps_per_epoch=steps_per_epochs,epochs=epochs,callbacks=callbacks,\n",
    "                             validation_data=val_set,verbose=1)\n",
    "\n",
    "#used to store the final time after the training has finised\n",
    "stop_time=time.time()-start_time\n",
    "\n",
    "#finally prining out the time required for training\n",
    "print('Time required to print FakeNoteClf model is:',stop_time)"
   ]
  },
  {
   "cell_type": "markdown",
   "id": "b038feaf",
   "metadata": {},
   "source": [
    "#### <font color='darkblue'>10 Defining a function to plot the graphs </font>"
   ]
  },
  {
   "cell_type": "code",
   "execution_count": 11,
   "id": "a559b24c",
   "metadata": {},
   "outputs": [],
   "source": [
    "def plot_history(model):\n",
    "     '''\n",
    "    function used to create  subplots to plot the accuracy and validation curves of both training  and validation data \n",
    "    for different epochs\n",
    "    \n",
    "    Parameter \n",
    "    model : name of the training object \n",
    "    '''\n",
    "    \n",
    "    #creates two different subplots\n",
    "    fig,axes=plt.subplots(1,2,figsize=(14,7))\n",
    "    \n",
    "    #plotting of the validation and training loss for different epochs\n",
    "    axes[0].plot(model.history['loss'],label='Training Loss')\n",
    "    axes[0].plot(model.history['val_loss'],label='Validation Loss')\n",
    "    axes[0].set_xlabel('Epochs')\n",
    "    axes[0].set_ylabel('Loss')\n",
    "    axes[0].set_title('Loss vs Epochs')\n",
    "    axes[0].legend()\n",
    "\n",
    "    #plotting of the validation and training accuracy for different epochs\n",
    "    axes[1].plot(model.history['accuracy'],label='Training Accuracy')\n",
    "    axes[1].plot(model.history['val_accuracy'],label='Validation Accuracy')\n",
    "    axes[1].set_xlabel('Epochs')\n",
    "    axes[1].set_ylabel('Accuracy')\n",
    "    axes[1].set_title('Accuracy vs Epochs')\n",
    "    axes[1].legend()\n",
    "\n",
    "    plt.legend()\n",
    "    plt.tight_layout()\n",
    "    \n",
    "    #Saving the figure.\n",
    "    plt.savefig(\"Accuracy and Loss.jpg\")\n",
    "    "
   ]
  },
  {
   "cell_type": "markdown",
   "id": "73a03f11",
   "metadata": {},
   "source": [
    "#### <font color='darkblue'>11 Plotting the metrics of the model</font>"
   ]
  },
  {
   "cell_type": "code",
   "execution_count": 12,
   "id": "1d5f337e",
   "metadata": {},
   "outputs": [
    {
     "data": {
      "image/png": "[encoded data removed]",
      "text/plain": [
       "<Figure size 1008x504 with 2 Axes>"
      ]
     },
     "metadata": {
      "needs_background": "light"
     },
     "output_type": "display_data"
    }
   ],
   "source": [
    "#calling the above plot_history function and passing the training object as parameter\n",
    "plot_history(model_history)"
   ]
  },
  {
   "cell_type": "markdown",
   "id": "f02ac0b0",
   "metadata": {},
   "source": [
    "<font color ='darkblue'>LOSS CURVE</font>\n",
    "    \n",
    "    At the starting of the epochs the training loss was high compared to the validation loss.The training loss \n",
    "    gradually decreased with the increase in Epochs .The training loss of the model is well below 0.2\n",
    "    \n",
    "    The validation loss curve has not been smooth for us  because we have given importance on validation accuracy \n",
    "    to reduce the learning rate. \n",
    "    \n",
    "    \n",
    "<font color='darkblue'>ACCURACY CURVE</font>\n",
    "\n",
    "    At the starting of the training our training accuracy was around 50% while the validation was higher.The training \n",
    "    accuracy started increasing gradually with the increase in epochs. We are having highest training accuracy of 0.948\n",
    "    among all the epochs\n",
    "    \n",
    "    The validation accuracy of the model at the starting was around 0.7 and for few initial epochs it increased and fall\n",
    "    then it started increasing ,The curve is more smooth than compared to the validation loss because whenever the model have seen a plateau for more than 5 epochs ,The learning rate was reduced by the ReduceLRonPlateau .The best accuracy the model ever acheived is 0.93610."
   ]
  },
  {
   "cell_type": "markdown",
   "id": "dbb25521",
   "metadata": {},
   "source": [
    "#### <font color='darkblue'> 12 Assigning the indices /labels of the classes</font>"
   ]
  },
  {
   "cell_type": "code",
   "execution_count": 13,
   "id": "de51c66f",
   "metadata": {},
   "outputs": [
    {
     "name": "stdout",
     "output_type": "stream",
     "text": [
      "['200_fake', '200_real', '500_fake', '500_real']\n"
     ]
    }
   ],
   "source": [
    "label=list(train_set.class_indices)\n",
    "print(label)"
   ]
  },
  {
   "cell_type": "code",
   "execution_count": null,
   "id": "037a8fa3",
   "metadata": {},
   "outputs": [],
   "source": []
  }
 ],
 "metadata": {
  "kernelspec": {
   "display_name": "Python 3",
   "language": "python",
   "name": "python3"
  },
  "language_info": {
   "codemirror_mode": {
    "name": "ipython",
    "version": 3
   },
   "file_extension": ".py",
   "mimetype": "text/x-python",
   "name": "python",
   "nbconvert_exporter": "python",
   "pygments_lexer": "ipython3",
   "version": "3.8.3"
  }
 },
 "nbformat": 4,
 "nbformat_minor": 5
}
